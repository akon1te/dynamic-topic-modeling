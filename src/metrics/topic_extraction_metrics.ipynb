{
 "cells": [
  {
   "cell_type": "code",
   "execution_count": 36,
   "metadata": {},
   "outputs": [],
   "source": [
    "import json\n",
    "import string\n",
    "import numpy as np\n",
    "\n",
    "from octis.evaluation_metrics.diversity_metrics import TopicDiversity\n",
    "from octis.evaluation_metrics.coherence_metrics import Coherence"
   ]
  },
  {
   "cell_type": "code",
   "execution_count": 49,
   "metadata": {},
   "outputs": [],
   "source": [
    "ds_path = '/home/tim/repos/dynamic-topic-modeling/data/topic_extraction/mistral/mistral-chat-prompt-topic-5kw-ami.json'\n",
    "#ds_path = '/home/tim/repos/dynamic-topic-modeling/data/superseg/superseg_test_small.json'\n",
    "#ds_path = '/home/tim/repos/dynamic-topic-modeling/data/topic_extraction/mistral/mistral-chat-prompt-topic-5kw-super.json'\n",
    "with open(ds_path, 'r') as f:\n",
    "    keywords = json.load(f)['data']\n",
    "\n",
    "#labels_path = '/home/tim/repos/dynamic-topic-modeling/data/superseg/superseg_test_small.json'\n",
    "labels_path = '/home/tim/repos/dynamic-topic-modeling/data/qmsum/ami_test.json'\n",
    "with open(labels_path, 'r') as f:\n",
    "    texts = json.load(f)['data']"
   ]
  },
  {
   "cell_type": "code",
   "execution_count": 50,
   "metadata": {},
   "outputs": [],
   "source": [
    "coh_metrics = []\n",
    "exclude = set(string.punctuation)\n",
    "\n",
    "for idx, i in enumerate(keywords):\n",
    "    current_vocab = []\n",
    "    cur_sent = [word.lower() for word in texts[idx]['text'].split() if word not in exclude]\n",
    "    if len(cur_sent) != 0:\n",
    "        current_vocab.append(cur_sent)\n",
    "        \n",
    "    i['topics'] = [[word.lower() for word in i['key_words'] if word != '']]\n",
    "    if len(i['topics'][0]) == 0:\n",
    "        coherence_score = 0\n",
    "    else:\n",
    "        try:\n",
    "            coh_metric = Coherence(topk=3, measure='c_npmi', texts=current_vocab)\n",
    "            coherence_score = coh_metric.score(i)\n",
    "            if str(coherence_score) == 'nan':\n",
    "                coherence_score = 0\n",
    "        except:\n",
    "            coherence_score = 0\n",
    "            \n",
    "    coh_metrics.append(coherence_score)"
   ]
  },
  {
   "cell_type": "code",
   "execution_count": 51,
   "metadata": {},
   "outputs": [],
   "source": [
    "metrics = []\n",
    "exclude = set(string.punctuation)\n",
    "topics_list = {'topics': []}\n",
    "current_vocab = []\n",
    "\n",
    "for idx, i in enumerate(keywords):   \n",
    "    cur_sent = [word.lower() for word in texts[idx]['text'].split() if word not in exclude]\n",
    "    if len(cur_sent) != 0:\n",
    "        current_vocab.append(cur_sent)\n",
    "    \n",
    "    kw = [word.lower() for word in i['key_words'] if word != '']\n",
    "    if len(kw) != 0:\n",
    "        topics_list['topics'].append(kw)\n",
    "   \n",
    "td_metric = TopicDiversity(topk=3) \n",
    "topic_diversity_score = td_metric.score(topics_list)        "
   ]
  },
  {
   "cell_type": "code",
   "execution_count": 52,
   "metadata": {},
   "outputs": [
    {
     "data": {
      "text/plain": [
       "(0.3663471778487753, -0.2695246034762805)"
      ]
     },
     "execution_count": 52,
     "metadata": {},
     "output_type": "execute_result"
    }
   ],
   "source": [
    "topic_diversity_score, np.mean(coh_metrics)"
   ]
  },
  {
   "cell_type": "markdown",
   "metadata": {},
   "source": []
  },
  {
   "cell_type": "code",
   "execution_count": null,
   "metadata": {},
   "outputs": [],
   "source": []
  }
 ],
 "metadata": {
  "kernelspec": {
   "display_name": ".venv",
   "language": "python",
   "name": "python3"
  },
  "language_info": {
   "codemirror_mode": {
    "name": "ipython",
    "version": 3
   },
   "file_extension": ".py",
   "mimetype": "text/x-python",
   "name": "python",
   "nbconvert_exporter": "python",
   "pygments_lexer": "ipython3",
   "version": "3.8.10"
  }
 },
 "nbformat": 4,
 "nbformat_minor": 2
}
