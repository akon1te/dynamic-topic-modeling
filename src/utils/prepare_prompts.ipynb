{
 "cells": [
  {
   "cell_type": "code",
   "execution_count": 1,
   "metadata": {},
   "outputs": [],
   "source": [
    "import json\n",
    "from prompts import ZERO_SHOT_TOPIC_EXTRACTION_PROMPTS"
   ]
  },
  {
   "cell_type": "code",
   "execution_count": 2,
   "metadata": {},
   "outputs": [],
   "source": [
    "model = 'phi2'\n",
    "input_file = '../../data/superseg/superseg_validation.json'\n",
    "output_file = f'../../data/superseg/{model}_superseg_validation_prompt.json'"
   ]
  },
  {
   "cell_type": "code",
   "execution_count": 3,
   "metadata": {},
   "outputs": [],
   "source": [
    "with open(input_file, 'r') as f:\n",
    "    data = json.load(f)['data']"
   ]
  },
  {
   "cell_type": "code",
   "execution_count": 4,
   "metadata": {},
   "outputs": [],
   "source": [
    "prompted_data = []\n",
    "for item in data:\n",
    "    prmpt = ZERO_SHOT_TOPIC_EXTRACTION_PROMPTS[model]\n",
    "    prmpt['query'] = prmpt['query'].replace('<text>', item['text'])\n",
    "    prmpt['answer'] = prmpt['answer'].replace('<keywords>', item['keywords'])\n",
    "    prompted_data.append(prmpt['query'])\n",
    "\n",
    "with open(output_file, 'w') as f:\n",
    "    json.dump(prompted_data, f)"
   ]
  },
  {
   "cell_type": "code",
   "execution_count": null,
   "metadata": {},
   "outputs": [],
   "source": []
  }
 ],
 "metadata": {
  "kernelspec": {
   "display_name": ".venv",
   "language": "python",
   "name": "python3"
  },
  "language_info": {
   "codemirror_mode": {
    "name": "ipython",
    "version": 3
   },
   "file_extension": ".py",
   "mimetype": "text/x-python",
   "name": "python",
   "nbconvert_exporter": "python",
   "pygments_lexer": "ipython3",
   "version": "3.10.12"
  }
 },
 "nbformat": 4,
 "nbformat_minor": 2
}
